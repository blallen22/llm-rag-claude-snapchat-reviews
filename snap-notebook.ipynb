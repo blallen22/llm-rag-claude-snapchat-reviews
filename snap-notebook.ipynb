{
 "cells": [
  {
   "cell_type": "code",
   "execution_count": 1,
   "id": "56df2ea3-fede-420a-ae51-2197a3ff0d3d",
   "metadata": {
    "tags": []
   },
   "outputs": [],
   "source": [
    "%%capture\n",
    "!pip install langchain>=0.1.11\n",
    "!pip install pypdf==4.1.0\n",
    "!pip install langchain-community faiss-cpu==1.8.0"
   ]
  },
  {
   "cell_type": "code",
   "execution_count": 2,
   "id": "7f4c6401-2224-4344-9f94-912a966b8cba",
   "metadata": {
    "tags": []
   },
   "outputs": [],
   "source": [
    "#########################################\n",
    "# LLM - RAG with Claude for Snapchat User Review Insights\n",
    "# Table of Contents\n",
    "# 1. Import libraries\n",
    "# 2. Instantiate the LLM and embeddings models\n",
    "# 3. Load 10 Snapchat reviews as documents\n",
    "# 4. Split documents into chunks\n",
    "# 5. Confirm embeddings functionality\n",
    "# 6. Create vector store\n",
    "# 7. Embed question and return relevant chunks\n",
    "# 8. Create RAG prompt template\n",
    "# 9. Produce RAG outputs with Claude V2\n",
    "# 10. Define Claude 3 function\n",
    "# 11. Read in reviews as .csv for iterative prompting\n",
    "# 12. Define function to prompt reviews\n",
    "# 13. Generate review sentiments, identify products mentioned, and generate summaries\n",
    "#########################################"
   ]
  },
  {
   "cell_type": "code",
   "execution_count": 3,
   "id": "d72e5144-8b02-402a-aede-4e3ea8ac7d01",
   "metadata": {
    "tags": []
   },
   "outputs": [],
   "source": [
    "#########################################\n",
    "# 1. Import libraries\n",
    "import warnings\n",
    "import json\n",
    "import os\n",
    "import sys\n",
    "import boto3\n",
    "import botocore\n",
    "import textwrap\n",
    "import numpy as np\n",
    "import base64\n",
    "import logging\n",
    "import pandas as pd\n",
    "\n",
    "from botocore.config import Config\n",
    "from botocore.exceptions import ClientError\n",
    "from IPython.display import display, Markdown, Latex\n",
    "from io import StringIO\n",
    "from typing import Optional\n",
    "from langchain.embeddings import BedrockEmbeddings\n",
    "from langchain.llms.bedrock import Bedrock\n",
    "from langchain.text_splitter import CharacterTextSplitter, RecursiveCharacterTextSplitter\n",
    "from langchain_community.document_loaders.pdf import PyPDFLoader, PyPDFDirectoryLoader\n",
    "from langchain.document_loaders import CSVLoader\n",
    "from langchain.chains.question_answering import load_qa_chain\n",
    "from langchain.vectorstores import FAISS\n",
    "from langchain.indexes import VectorstoreIndexCreator\n",
    "from langchain.indexes.vectorstore import VectorStoreIndexWrapper\n",
    "from langchain.prompts import PromptTemplate\n",
    "from langchain.chains import RetrievalQA\n",
    "\n",
    "warnings.filterwarnings('ignore')\n",
    "#########################################"
   ]
  },
  {
   "cell_type": "code",
   "execution_count": 4,
   "id": "6c6b6f95-aa2b-4bc7-a85b-63d12b38c036",
   "metadata": {
    "tags": []
   },
   "outputs": [],
   "source": [
    "#########################################\n",
    "# 2. Instantiate the LLM and embeddings models\n",
    "boto3_bedrock = boto3.client('bedrock-runtime')\n",
    "\n",
    "# Claude V2\n",
    "llm = Bedrock(model_id=\"anthropic.claude-v2\", client=boto3_bedrock, model_kwargs={'max_tokens_to_sample':200})\n",
    "\n",
    "# Titan Embeddings\n",
    "bedrock_embeddings = BedrockEmbeddings(model_id=\"amazon.titan-embed-text-v1\", client=boto3_bedrock)\n",
    "#########################################"
   ]
  },
  {
   "cell_type": "code",
   "execution_count": 5,
   "id": "e141f11d-08c3-4e4e-ab39-a6cc07abf86e",
   "metadata": {
    "tags": []
   },
   "outputs": [],
   "source": [
    "#########################################\n",
    "# 3. Load 10 Snapchat reviews as documents\n",
    "loader = CSVLoader(\"snapchat_reviews.csv\", encoding=\"windows-1252\")\n",
    "documents = loader.load()\n",
    "#########################################"
   ]
  },
  {
   "cell_type": "code",
   "execution_count": 6,
   "id": "a32c974c-8fe0-43ee-a50e-2b84d131d9e0",
   "metadata": {
    "tags": []
   },
   "outputs": [
    {
     "name": "stdout",
     "output_type": "stream",
     "text": [
      "Average length among 10 documents loaded is 1413 characters.\n",
      "After the split we have 38 documents more than the original 10.\n",
      "Average length among 38 documents (after split) is 393 characters.\n"
     ]
    }
   ],
   "source": [
    "#########################################\n",
    "# 4. Split documents into chunks\n",
    "text_splitter = RecursiveCharacterTextSplitter(\n",
    "    chunk_size = 1000,\n",
    "    chunk_overlap  = 100,\n",
    ")\n",
    "docs = text_splitter.split_documents(documents)\n",
    "\n",
    "# print statistics about the documents\n",
    "avg_doc_length = lambda documents: sum([len(doc.page_content) for doc in documents])//len(documents)\n",
    "avg_char_count_pre = avg_doc_length(documents)\n",
    "avg_char_count_post = avg_doc_length(docs)\n",
    "print(f'Average length among {len(documents)} documents loaded is {avg_char_count_pre} characters.')\n",
    "print(f'After the split we have {len(docs)} documents more than the original {len(documents)}.')\n",
    "print(f'Average length among {len(docs)} documents (after split) is {avg_char_count_post} characters.')\n",
    "#########################################"
   ]
  },
  {
   "cell_type": "code",
   "execution_count": 7,
   "id": "50e0b4b3-699e-467b-8682-1971a2b7095e",
   "metadata": {
    "tags": []
   },
   "outputs": [
    {
     "name": "stdout",
     "output_type": "stream",
     "text": [
      "Sample embedding of a document chunk:  [ 0.45507812 -0.06787109  0.13964844 ... -0.296875   -0.33789062\n",
      " -0.15429688]\n",
      "Size of the embedding:  (1536,)\n"
     ]
    }
   ],
   "source": [
    "#########################################\n",
    "# 5. Confirm embeddings functionality\n",
    "try:\n",
    "    sample_embedding = np.array(bedrock_embeddings.embed_query(docs[0].page_content))\n",
    "    print(\"Sample embedding of a document chunk: \", sample_embedding)\n",
    "    print(\"Size of the embedding: \", sample_embedding.shape)\n",
    "\n",
    "except ValueError as error:\n",
    "    if \"AccessDeniedException\" in str(error):\n",
    "        print(f\"\\x1b[41m{error}\\\n",
    "        \\nTo troubeshoot this issue please refer to the following resources.\\\n",
    "         \\nhttps://docs.aws.amazon.com/IAM/latest/UserGuide/troubleshoot_access-denied.html\\\n",
    "         \\nhttps://docs.aws.amazon.com/bedrock/latest/userguide/security-iam.html\\x1b[0m\\n\")\n",
    "        class StopExecution(ValueError):\n",
    "            def _render_traceback_(self):\n",
    "                pass\n",
    "        raise StopExecution\n",
    "    else:\n",
    "        raise error\n",
    "#########################################"
   ]
  },
  {
   "cell_type": "code",
   "execution_count": 8,
   "id": "e166e405-fc62-4524-aad7-c5167fd4d2c4",
   "metadata": {
    "tags": []
   },
   "outputs": [],
   "source": [
    "#########################################\n",
    "# 6. Create vector store\n",
    "vectorstore_faiss = FAISS.from_documents(\n",
    "    docs,\n",
    "    bedrock_embeddings,\n",
    ")\n",
    "\n",
    "wrapper_store_faiss = VectorStoreIndexWrapper(vectorstore=vectorstore_faiss)\n",
    "#########################################"
   ]
  },
  {
   "cell_type": "code",
   "execution_count": 9,
   "id": "214338ee-616e-4df6-b95e-169e37f6b87d",
   "metadata": {
    "tags": []
   },
   "outputs": [
    {
     "name": "stdout",
     "output_type": "stream",
     "text": [
      "4 documents are fetched which are relevant to the query.\n",
      "----\n",
      "## Document 1: Snapchat used to be a handy, fun messaging system to keep up with your friends. Now,\n",
      "the push for an ever-increasing market cap has resulted in the addition of many disgusting new\n",
      "features. For example, if I want to send a snap to someone, about 20% of the time, one of the\n",
      "filters automatically applies to the photo. I do not want to use filters, almost ever, but the app\n",
      "automatically navigates to that menu. Often, when I try to navigate to my friends list, the next\n",
      "button over which leads to the sponsored filters is magically activated despite my not pressing it.\n",
      "More recently, Snapchat premium opt-in appears at the top of my friends list every time I open the\n",
      "app, and when I hit the x to get rid of that or the “try snapchat on your computer”, it mysteriously\n",
      "pulls up the menu and tries to force me to read it anyway instead of dismissing. And now, for the\n",
      "cherry on top, a chatbot that appears without asking, does not have the option to opt out, is\n",
      "obviously there to harvest user data.......\n",
      "---\n",
      "## Document 2: This feature has to go, or at least an option needs to added that allows users to\n",
      "remove it. It would have made much more sense to include this new feature for ONLY Snapchat+ members\n",
      "but as I stated, the Snapchat developers choose to annoy users into giving them money by actively\n",
      "degrading the platform—rather than providing an experience that is actually worth the money.\n",
      "User: 2\n",
      "Date: 4/26/2023\n",
      "Region: US.......\n",
      "---\n",
      "## Document 3: Remove all the media and lowly television programming or content and solely leave it\n",
      "as a good messaging application w photo and video capabilities as is, and we have a better\n",
      "application overall and a better world in turn… delete Snapchat media to the right of the camera\n",
      "keep messaging functions at left side of camera Continuous improvement needed. Thank you so much!\n",
      "Peace........\n",
      "---\n",
      "## Document 4: I’ve used SnapChat for years and its been great for chatting and even sending fun\n",
      "filtered photos to friends. It hasn’t been perfect and has been frustrating every now and again but\n",
      "still my most used app to chat with friends. This morning after logging in, I see a new AI “friend”\n",
      "that was rolled out. I’m not a fan of using computer generated responses to guide you and learn from\n",
      "you under the guise of being fun and/or making your life easier. Since there was no way to remove it\n",
      "that I could tell, I asked the AI bot how to delete. You have to be a premium member to be able to\n",
      "remove it but it also says this is a new feature for premium members before it is rolled out\n",
      "permanently…which Im not so Im not sure why it’s available to me. I know this is supposed to appeal\n",
      "to the younger crowd who can’t wait to use it to ask it fun questions and have a laugh with friends\n",
      "or even to get what they think might be life changing advice from a computer. Our devices are\n",
      "already monitored enough but.......\n",
      "---\n"
     ]
    }
   ],
   "source": [
    "#########################################\n",
    "# 7. Embed question and return relevant chunks\n",
    "def print_ww(*args, width: int = 100, **kwargs):\n",
    "    \"\"\"Like print(), but wraps output to `width` characters (default 100)\"\"\"\n",
    "    buffer = StringIO()\n",
    "    try:\n",
    "        _stdout = sys.stdout\n",
    "        sys.stdout = buffer\n",
    "        print(*args, **kwargs)\n",
    "        output = buffer.getvalue()\n",
    "    finally:\n",
    "        sys.stdout = _stdout\n",
    "    for line in output.splitlines():\n",
    "        print(\"\\n\".join(textwrap.wrap(line, width=width)))\n",
    "\n",
    "query = \"\"\"What are the most important issues users are experiencing with Snapchat?\"\"\"\n",
    "\n",
    "query_embedding = vectorstore_faiss.embedding_function.embed_query(query)\n",
    "np.array(query_embedding)\n",
    "\n",
    "relevant_documents = vectorstore_faiss.similarity_search_by_vector(query_embedding)\n",
    "print(f'{len(relevant_documents)} documents are fetched which are relevant to the query.')\n",
    "print('----')\n",
    "for i, rel_doc in enumerate(relevant_documents):\n",
    "    print_ww(f'## Document {i+1}: {rel_doc.page_content}.......')\n",
    "    print('---')\n",
    "#########################################"
   ]
  },
  {
   "cell_type": "code",
   "execution_count": 10,
   "id": "15ead701-87c1-4b83-9a11-4ad777edaa5f",
   "metadata": {
    "tags": []
   },
   "outputs": [],
   "source": [
    "#########################################\n",
    "# 8. Create RAG prompt template\n",
    "prompt_template = \"\"\"\n",
    "\n",
    "Human: Use the following pieces of context to provide a concise answer to the question at the end. If you don't know the answer, just say that you don't know, don't try to make up an answer.\n",
    "<context>\n",
    "{context}\n",
    "</context\n",
    "\n",
    "Question: {question}\n",
    "\n",
    "Assistant:\"\"\"\n",
    "\n",
    "PROMPT = PromptTemplate(\n",
    "    template=prompt_template, input_variables=[\"context\", \"question\"]\n",
    ")\n",
    "#########################################"
   ]
  },
  {
   "cell_type": "code",
   "execution_count": 11,
   "id": "0c5c7e75-9f16-4b89-bff5-30c4ff81d1e7",
   "metadata": {
    "tags": []
   },
   "outputs": [
    {
     "name": "stdout",
     "output_type": "stream",
     "text": [
      "{'query': 'What are the most important issues users are experiencing with Snapchat?', 'result': '\n",
      "Based on the context provided, some of the most important issues users are experiencing with\n",
      "Snapchat seem to be:\\n\\n- Unwanted filters being automatically applied to photos when sending\n",
      "snaps\\n\\n- The app navigating to sponsored filters without user input \\n\\n- Frequent prompts to\n",
      "upgrade to Snapchat Premium appearing in the friends list\\n\\n- Annoying chatbot features being added\n",
      "without the ability to opt out\\n\\n- General degradation of the user experience and platform in an\n",
      "effort to push monetization', 'source_documents': [Document(page_content='Snapchat used to be a\n",
      "handy, fun messaging system to keep up with your friends. Now, the push for an ever-increasing\n",
      "market cap has resulted in the addition of many disgusting new features. For example, if I want to\n",
      "send a snap to someone, about 20% of the time, one of the filters automatically applies to the\n",
      "photo. I do not want to use filters, almost ever, but the app automatically navigates to that menu.\n",
      "Often, when I try to navigate to my friends list, the next button over which leads to the sponsored\n",
      "filters is magically activated despite my not pressing it. More recently, Snapchat premium opt-in\n",
      "appears at the top of my friends list every time I open the app, and when I hit the x to get rid of\n",
      "that or the “try snapchat on your computer”, it mysteriously pulls up the menu and tries to force me\n",
      "to read it anyway instead of dismissing. And now, for the cherry on top, a chatbot that appears\n",
      "without asking, does not have the option to opt out, is obviously there to harvest user data',\n",
      "metadata={'source': 'snapchat_reviews.csv', 'row': 7}), Document(page_content='This feature has to\n",
      "go, or at least an option needs to added that allows users to remove it. It would have made much\n",
      "more sense to include this new feature for ONLY Snapchat+ members but as I stated, the Snapchat\n",
      "developers choose to annoy users into giving them money by actively degrading the platform—rather\n",
      "than providing an experience that is actually worth the money.\\nUser: 2\\nDate: 4/26/2023\\nRegion:\n",
      "US', metadata={'source': 'snapchat_reviews.csv', 'row': 1}), Document(page_content='Remove all the\n",
      "media and lowly television programming or content and solely leave it as a good messaging\n",
      "application w photo and video capabilities as is, and we have a better application overall and a\n",
      "better world in turn… delete Snapchat media to the right of the camera keep messaging functions at\n",
      "left side of camera Continuous improvement needed. Thank you so much! Peace.', metadata={'source':\n",
      "'snapchat_reviews.csv', 'row': 6})]}\n",
      "---------------------------------------------\n"
     ]
    },
    {
     "data": {
      "text/markdown": [
       " Based on the context provided, some of the most important issues users are experiencing with Snapchat seem to be:\n",
       "\n",
       "- Unwanted filters being automatically applied to photos when sending snaps\n",
       "\n",
       "- The app navigating to sponsored filters without user input \n",
       "\n",
       "- Frequent prompts to upgrade to Snapchat Premium appearing in the friends list\n",
       "\n",
       "- Annoying chatbot features being added without the ability to opt out\n",
       "\n",
       "- General degradation of the user experience and platform in an effort to push monetization"
      ],
      "text/plain": [
       "<IPython.core.display.Markdown object>"
      ]
     },
     "metadata": {},
     "output_type": "display_data"
    },
    {
     "name": "stdout",
     "output_type": "stream",
     "text": [
      "---------------------------------------------\n"
     ]
    },
    {
     "data": {
      "text/markdown": [
       " Based on the context, it seems that some of the features people like most about Snapchat are:\n",
       "\n",
       "- The camera/videos - The context mentions preferring Snapchat's camera over the default Camera app for capturing and sending videos.\n",
       "\n",
       "- The Map - The context says the Map is cool, underrated, and useful for following local events. \n",
       "\n",
       "- Overall ease of sharing videos and images with friends."
      ],
      "text/plain": [
       "<IPython.core.display.Markdown object>"
      ]
     },
     "metadata": {},
     "output_type": "display_data"
    }
   ],
   "source": [
    "#########################################\n",
    "# 9. Produce RAG outputs with Claude V2\n",
    "qa = RetrievalQA.from_chain_type(\n",
    "    llm=llm,\n",
    "    chain_type=\"stuff\",\n",
    "    retriever=vectorstore_faiss.as_retriever(\n",
    "        search_type=\"similarity\", search_kwargs={\"k\": 3}\n",
    "    ),\n",
    "    return_source_documents=True,\n",
    "    chain_type_kwargs={\"prompt\": PROMPT}\n",
    ")\n",
    "answer = qa({\"query\": query})\n",
    "print_ww(answer)\n",
    "print(f\"---------------------------------------------\")\n",
    "display(Markdown(answer['result']))\n",
    "print(f\"---------------------------------------------\")\n",
    "\n",
    "def return_response(input):\n",
    "    answer = qa({\"query\": input})\n",
    "    return display(Markdown(answer['result']))\n",
    "\n",
    "return_response(\"What are some of the features that people like most about Snapchat?\")\n",
    "#########################################"
   ]
  },
  {
   "cell_type": "code",
   "execution_count": 12,
   "id": "a18490be-1da7-4220-8eab-c6f0e119444a",
   "metadata": {
    "tags": []
   },
   "outputs": [],
   "source": [
    "#########################################\n",
    "# 10. Define Claude 3 function\n",
    "logger = logging.getLogger(__name__)\n",
    "\n",
    "def claude_3_text(prompt):\n",
    "    # Initialize the Amazon Bedrock runtime client\n",
    "    client = boto3.client(\n",
    "        service_name=\"bedrock-runtime\", region_name=\"us-east-1\"\n",
    "    )\n",
    "\n",
    "    # Invoke Claude 3 Sonnet\n",
    "    model_id = \"anthropic.claude-3-sonnet-20240229-v1:0\"\n",
    "\n",
    "    try:\n",
    "        response = client.invoke_model(\n",
    "            modelId=model_id,\n",
    "            body=json.dumps(\n",
    "                {\n",
    "                    \"anthropic_version\": \"bedrock-2023-05-31\",\n",
    "                    \"max_tokens\": 1024,\n",
    "                    \"messages\": [\n",
    "                        {\n",
    "                            \"role\": \"user\",\n",
    "                            \"content\": [{\"type\": \"text\", \"text\": prompt}],\n",
    "                        }\n",
    "                    ],\n",
    "                }\n",
    "            ),\n",
    "        )\n",
    "\n",
    "        # Process and print the response\n",
    "        result = json.loads(response.get(\"body\").read())\n",
    "        output_list = result.get(\"content\", [])\n",
    "\n",
    "        for output in output_list:\n",
    "            return output[\"text\"]\n",
    "\n",
    "        # return result\n",
    "    except ClientError as err:\n",
    "        logger.error(\n",
    "            \"Couldn't invoke Claude 3 Sonnet. Here's why: %s: %s\",\n",
    "            err.response[\"Error\"][\"Code\"],\n",
    "            err.response[\"Error\"][\"Message\"],\n",
    "        )\n",
    "        raise\n",
    "#########################################"
   ]
  },
  {
   "cell_type": "code",
   "execution_count": 13,
   "id": "86a2626b-52f9-4fd6-9fa9-2a8015016fba",
   "metadata": {
    "tags": []
   },
   "outputs": [],
   "source": [
    "#########################################\n",
    "# 11. Read in reviews as .csv for iterative prompting\n",
    "reviews = pd.read_csv('snapchat_reviews.csv', encoding=\"windows-1252\")\n",
    "#########################################"
   ]
  },
  {
   "cell_type": "code",
   "execution_count": 14,
   "id": "cbb32f9b-6c01-4043-a082-b7d6ab05c0e5",
   "metadata": {
    "tags": []
   },
   "outputs": [],
   "source": [
    "#########################################\n",
    "# 12. Define function to prompt reviews\n",
    "def prompt_review(prompt, review):\n",
    "    # remove newlines\n",
    "    input_text = review.replace('\\n', ' ')\n",
    "\n",
    "    # format with triple quotes\n",
    "    input_text = f'\"\"\"{input_text}\"\"\"'\n",
    "\n",
    "    prompt_template = \"\"\"Human: <prompt> {prompt} </prompt>\n",
    "\n",
    "    <input_text>\n",
    "    {input_text}\n",
    "    </input_text>\n",
    "\n",
    "\n",
    "    Assistant:\n",
    "    \"\"\"\n",
    "\n",
    "    text_prompt = prompt_template.replace(\"{input_text}\", input_text)\n",
    "    text_prompt = text_prompt.replace(\"{prompt}\", prompt)\n",
    "\n",
    "    return claude_3_text(text_prompt)\n",
    "#########################################"
   ]
  },
  {
   "cell_type": "code",
   "execution_count": 15,
   "id": "b92b2902-36f1-494f-be78-bfc3b5c4d2a5",
   "metadata": {
    "tags": []
   },
   "outputs": [],
   "source": [
    "#########################################\n",
    "# 13. Generate review sentiments, identify products mentioned, and generate summaries\n",
    "sentiments = []\n",
    "products = []\n",
    "summaries = []\n",
    "\n",
    "for inp in reviews['Review_Text']:\n",
    "    # store sentiment\n",
    "    prompt = \"Classify the input text as either positive, negative, or neutral. Return only one word.\"\n",
    "    sentiments.append(prompt_review(prompt, inp))\n",
    "\n",
    "    # store product\n",
    "    prompt = \"Identify any Snapchat products or features mentioned in the input text. Return only those product names and no other text.\"\n",
    "    products.append(prompt_review(prompt, inp))\n",
    "\n",
    "    # store summary\n",
    "    prompt = \"Identify the three most important points in the input text. Summarize each of those points in five words. Return those words and nothing else.\"\n",
    "    summaries.append(prompt_review(prompt, inp))\n",
    "\n",
    "reviews.insert(len(reviews.columns), 'sentiment', sentiments, True)\n",
    "reviews.insert(len(reviews.columns), 'products', products, True)\n",
    "reviews.insert(len(reviews.columns), 'summaries', summaries, True)\n",
    "#########################################"
   ]
  },
  {
   "cell_type": "code",
   "execution_count": 16,
   "id": "7d360487-35cb-4a80-b1c7-09e6f027eb29",
   "metadata": {
    "tags": []
   },
   "outputs": [
    {
     "data": {
      "text/html": [
       "<div>\n",
       "<style scoped>\n",
       "    .dataframe tbody tr th:only-of-type {\n",
       "        vertical-align: middle;\n",
       "    }\n",
       "\n",
       "    .dataframe tbody tr th {\n",
       "        vertical-align: top;\n",
       "    }\n",
       "\n",
       "    .dataframe thead th {\n",
       "        text-align: right;\n",
       "    }\n",
       "</style>\n",
       "<table border=\"1\" class=\"dataframe\">\n",
       "  <thead>\n",
       "    <tr style=\"text-align: right;\">\n",
       "      <th></th>\n",
       "      <th>User</th>\n",
       "      <th>sentiment</th>\n",
       "      <th>products</th>\n",
       "      <th>summaries</th>\n",
       "    </tr>\n",
       "  </thead>\n",
       "  <tbody>\n",
       "    <tr>\n",
       "      <th>0</th>\n",
       "      <td>1</td>\n",
       "      <td>Positive</td>\n",
       "      <td>Snapchat, Camera app, iMessages, Map, face lenses</td>\n",
       "      <td>Sending videos Camera preference Event insights</td>\n",
       "    </tr>\n",
       "    <tr>\n",
       "      <th>1</th>\n",
       "      <td>2</td>\n",
       "      <td>Negative</td>\n",
       "      <td>my AI, Snapchat+</td>\n",
       "      <td>1. Awful AI feature update\\n2. AI forced onto users\\n3. Degrading platform for profit</td>\n",
       "    </tr>\n",
       "    <tr>\n",
       "      <th>2</th>\n",
       "      <td>3</td>\n",
       "      <td>Negative</td>\n",
       "      <td>SnapChat</td>\n",
       "      <td>Criticizing AI bot as friend\\n\\nNot happy with its direction\\n\\nRaise privacy concerns about monitoring</td>\n",
       "    </tr>\n",
       "    <tr>\n",
       "      <th>3</th>\n",
       "      <td>4</td>\n",
       "      <td>Negative</td>\n",
       "      <td>Bitmojis, Snapchat</td>\n",
       "      <td>Bitmojis were better in 2D. Updates made bitmojis look weird. Revert bitmojis to 2D again.</td>\n",
       "    </tr>\n",
       "    <tr>\n",
       "      <th>4</th>\n",
       "      <td>5</td>\n",
       "      <td>Negative</td>\n",
       "      <td>I did not find any mentions of specific Snapchat products or features in the given text.</td>\n",
       "      <td>Forced AI integration, data harvesting, poor user experience.</td>\n",
       "    </tr>\n",
       "  </tbody>\n",
       "</table>\n",
       "</div>"
      ],
      "text/plain": [
       "   User sentiment  \\\n",
       "0  1     Positive   \n",
       "1  2     Negative   \n",
       "2  3     Negative   \n",
       "3  4     Negative   \n",
       "4  5     Negative   \n",
       "\n",
       "                                                                                   products  \\\n",
       "0  Snapchat, Camera app, iMessages, Map, face lenses                                          \n",
       "1  my AI, Snapchat+                                                                           \n",
       "2  SnapChat                                                                                   \n",
       "3  Bitmojis, Snapchat                                                                         \n",
       "4  I did not find any mentions of specific Snapchat products or features in the given text.   \n",
       "\n",
       "                                                                                                 summaries  \n",
       "0  Sending videos Camera preference Event insights                                                          \n",
       "1  1. Awful AI feature update\\n2. AI forced onto users\\n3. Degrading platform for profit                    \n",
       "2  Criticizing AI bot as friend\\n\\nNot happy with its direction\\n\\nRaise privacy concerns about monitoring  \n",
       "3  Bitmojis were better in 2D. Updates made bitmojis look weird. Revert bitmojis to 2D again.               \n",
       "4  Forced AI integration, data harvesting, poor user experience.                                            "
      ]
     },
     "execution_count": 16,
     "metadata": {},
     "output_type": "execute_result"
    }
   ],
   "source": [
    "pd.set_option('display.max_colwidth', 0)\n",
    "reviews[['User', 'sentiment', 'products', 'summaries']][0:5]"
   ]
  },
  {
   "cell_type": "code",
   "execution_count": null,
   "id": "810aebbd-1836-4172-a69f-e8e19fb507e4",
   "metadata": {},
   "outputs": [],
   "source": []
  }
 ],
 "metadata": {
  "kernelspec": {
   "display_name": "conda_pytorch_p310",
   "language": "python",
   "name": "conda_pytorch_p310"
  },
  "language_info": {
   "codemirror_mode": {
    "name": "ipython",
    "version": 3
   },
   "file_extension": ".py",
   "mimetype": "text/x-python",
   "name": "python",
   "nbconvert_exporter": "python",
   "pygments_lexer": "ipython3",
   "version": "3.10.13"
  }
 },
 "nbformat": 4,
 "nbformat_minor": 5
}
